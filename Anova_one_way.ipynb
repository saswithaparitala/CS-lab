{
  "cells": [
    {
      "cell_type": "markdown",
      "metadata": {
        "id": "view-in-github",
        "colab_type": "text"
      },
      "source": [
        "<a href=\"https://colab.research.google.com/github/saswithaparitala/CS-lab/blob/main/Anova_one_way.ipynb\" target=\"_parent\"><img src=\"https://colab.research.google.com/assets/colab-badge.svg\" alt=\"Open In Colab\"/></a>"
      ]
    },
    {
      "cell_type": "code",
      "execution_count": 4,
      "id": "093e0382",
      "metadata": {
        "id": "093e0382"
      },
      "outputs": [],
      "source": [
        "import numpy as np\n",
        "import pandas as pd\n",
        "import scipy.stats as st"
      ]
    },
    {
      "cell_type": "code",
      "execution_count": 5,
      "id": "35aac8a4",
      "metadata": {
        "id": "35aac8a4",
        "outputId": "ee336825-ffb6-451e-c171-27f9f76b71f9",
        "colab": {
          "base_uri": "https://localhost:8080/"
        }
      },
      "outputs": [
        {
          "output_type": "stream",
          "name": "stdout",
          "text": [
            "50\n",
            "52\n",
            "18\n",
            "[50 52 18]\n"
          ]
        }
      ],
      "source": [
        "A=np.array([13,10,8,11,8])\n",
        "B=np.array([13,11,14,14])\n",
        "C=np.array([4,1,3,4,2,4])\n",
        "d=np.sum(A)\n",
        "e=np.sum(B)\n",
        "f=np.sum(C)\n",
        "print(d)\n",
        "print(e)\n",
        "print(f)\n",
        "Ti=np.array([d,e,f])\n",
        "print(Ti)"
      ]
    },
    {
      "cell_type": "code",
      "execution_count": 6,
      "id": "1f143ff0",
      "metadata": {
        "id": "1f143ff0",
        "outputId": "7f10520c-069a-4614-8517-303952e7af13",
        "colab": {
          "base_uri": "https://localhost:8080/"
        }
      },
      "outputs": [
        {
          "output_type": "stream",
          "name": "stdout",
          "text": [
            "120\n",
            "15\n",
            "1230.0\n"
          ]
        }
      ],
      "source": [
        "G=np.sum(Ti)\n",
        "print(G)\n",
        "n1=len(A)\n",
        "n2=len(B)\n",
        "n3=len(C)\n",
        "N=n1+n2+n3\n",
        "print(N)\n",
        "x=d**2/n1\n",
        "y=e**2/n2\n",
        "z=f**2/n3\n",
        "Ti2_n=np.array([x,y,z])\n",
        "sigma_Ti2_n=np.sum(Ti2_n)\n",
        "print(sigma_Ti2_n)\n"
      ]
    },
    {
      "cell_type": "code",
      "execution_count": 7,
      "id": "30fdb18c",
      "metadata": {
        "id": "30fdb18c",
        "outputId": "03db0935-08ae-4c07-9ae1-bf8733f65974",
        "colab": {
          "base_uri": "https://localhost:8080/"
        }
      },
      "outputs": [
        {
          "output_type": "stream",
          "name": "stdout",
          "text": [
            "1262\n"
          ]
        }
      ],
      "source": [
        "RSS=0\n",
        "for i in range(n1):\n",
        "    RSS=RSS+A[i]**2\n",
        "for j in range(n2):\n",
        "    RSS=RSS+B[j]**2\n",
        "for k in range(n3):\n",
        "    RSS=RSS+C[k]**2\n",
        "print(RSS)\n"
      ]
    },
    {
      "cell_type": "code",
      "execution_count": 8,
      "id": "1055fb09",
      "metadata": {
        "id": "1055fb09",
        "outputId": "e95be57a-53c4-4d90-ef3d-b2817ea9cbef",
        "colab": {
          "base_uri": "https://localhost:8080/"
        }
      },
      "outputs": [
        {
          "output_type": "stream",
          "name": "stdout",
          "text": [
            "960.0\n"
          ]
        }
      ],
      "source": [
        "CF=G**2/N\n",
        "print(CF)"
      ]
    },
    {
      "cell_type": "code",
      "execution_count": 9,
      "id": "37d54561",
      "metadata": {
        "id": "37d54561",
        "outputId": "402c1933-a1e3-4621-c761-4c112e39c31a",
        "colab": {
          "base_uri": "https://localhost:8080/"
        }
      },
      "outputs": [
        {
          "output_type": "stream",
          "name": "stdout",
          "text": [
            "302.0\n"
          ]
        }
      ],
      "source": [
        "SST=RSS-CF\n",
        "print(SST)"
      ]
    },
    {
      "cell_type": "code",
      "execution_count": 10,
      "id": "14fffe1e",
      "metadata": {
        "id": "14fffe1e",
        "outputId": "e1c129ad-e98f-4a4c-c7bc-260cd2d74e0f",
        "colab": {
          "base_uri": "https://localhost:8080/"
        }
      },
      "outputs": [
        {
          "output_type": "stream",
          "name": "stdout",
          "text": [
            "270.0\n"
          ]
        }
      ],
      "source": [
        "SSTR=sigma_Ti2_n-CF\n",
        "print(SSTR)"
      ]
    },
    {
      "cell_type": "code",
      "execution_count": 11,
      "id": "c0babf71",
      "metadata": {
        "id": "c0babf71",
        "outputId": "ad0e3fa8-ae2d-47bd-a459-be97c85b5254",
        "colab": {
          "base_uri": "https://localhost:8080/"
        }
      },
      "outputs": [
        {
          "output_type": "stream",
          "name": "stdout",
          "text": [
            "32.0\n"
          ]
        }
      ],
      "source": [
        "SSE=SST-SSTR\n",
        "print(SSE)"
      ]
    },
    {
      "cell_type": "code",
      "execution_count": 12,
      "id": "b88d0c8e",
      "metadata": {
        "id": "b88d0c8e",
        "outputId": "02eb32f4-b9b7-4876-f459-4a61589681d9",
        "colab": {
          "base_uri": "https://localhost:8080/"
        }
      },
      "outputs": [
        {
          "output_type": "stream",
          "name": "stdout",
          "text": [
            "2\n",
            "12\n",
            "135.0\n",
            "2.6666666666666665\n",
            "50.625\n"
          ]
        }
      ],
      "source": [
        "k=3\n",
        "degree1=k-1\n",
        "degree2=N-k\n",
        "print(degree1)\n",
        "print(degree2)\n",
        "MSST=(SSTR)/degree1\n",
        "print(MSST)\n",
        "MSSE=(SSE)/degree2\n",
        "print(MSSE)\n",
        "F=MSST/MSSE\n",
        "print(F)"
      ]
    },
    {
      "cell_type": "code",
      "execution_count": 13,
      "id": "c8995785",
      "metadata": {
        "id": "c8995785",
        "outputId": "f6c33ea6-2b3c-4b0b-fd60-e1bf15ee561b",
        "colab": {
          "base_uri": "https://localhost:8080/"
        }
      },
      "outputs": [
        {
          "output_type": "stream",
          "name": "stdout",
          "text": [
            "  source of variation  sum of squares  degree of freedom  mean sumof sqaures  \\\n",
            "0         treatements           270.0                  2          135.000000   \n",
            "1               error            32.0                 12            2.666667   \n",
            "\n",
            "  variance ratio  \n",
            "0         50.625  \n",
            "1                 \n"
          ]
        }
      ],
      "source": [
        "dataset={\"source of variation\":['treatements','error'],\"sum of squares\":[SSTR,SSE],\"degree of freedom\":[degree1,degree2],\"mean sumof sqaures\":[MSST,MSSE],\"variance ratio\":[F,'']}\n",
        "df=pd.DataFrame(dataset)\n",
        "print(df)"
      ]
    },
    {
      "cell_type": "code",
      "execution_count": 16,
      "id": "4086884f",
      "metadata": {
        "id": "4086884f",
        "colab": {
          "base_uri": "https://localhost:8080/"
        },
        "outputId": "269c7422-b793-4956-ae39-092569b4f36a"
      },
      "outputs": [
        {
          "output_type": "stream",
          "name": "stdout",
          "text": [
            "table value : 3.8852938346523933\n",
            "reject null hypothesis\n"
          ]
        }
      ],
      "source": [
        "\n",
        "table_tr=st.f.ppf(0.95,k-1,N-k)\n",
        "print(\"table value :\",table_tr)\n",
        "if F>table_tr:\n",
        "    print(\"reject null hypothesis\")\n",
        "else:\n",
        "    print(\"accept null hypothesis\")\n"
      ]
    }
  ],
  "metadata": {
    "kernelspec": {
      "display_name": "Python 3 (ipykernel)",
      "language": "python",
      "name": "python3"
    },
    "language_info": {
      "codemirror_mode": {
        "name": "ipython",
        "version": 3
      },
      "file_extension": ".py",
      "mimetype": "text/x-python",
      "name": "python",
      "nbconvert_exporter": "python",
      "pygments_lexer": "ipython3",
      "version": "3.9.7"
    },
    "colab": {
      "name": "Anova_one_way.ipynb",
      "provenance": [],
      "include_colab_link": true
    }
  },
  "nbformat": 4,
  "nbformat_minor": 5
}