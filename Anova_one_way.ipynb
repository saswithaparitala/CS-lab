{
  "cells": [
    {
      "cell_type": "markdown",
      "metadata": {
        "id": "view-in-github",
        "colab_type": "text"
      },
      "source": [
        "<a href=\"https://colab.research.google.com/github/saswithaparitala/CS-lab/blob/main/Anova_one_way.ipynb\" target=\"_parent\"><img src=\"https://colab.research.google.com/assets/colab-badge.svg\" alt=\"Open In Colab\"/></a>"
      ]
    },
    {
      "cell_type": "code",
      "execution_count": null,
      "id": "093e0382",
      "metadata": {
        "id": "093e0382"
      },
      "outputs": [],
      "source": [
        "import numpy as np\n",
        "import pandas as pd\n",
        "import scipy.stats as st"
      ]
    },
    {
      "cell_type": "code",
      "execution_count": null,
      "id": "35aac8a4",
      "metadata": {
        "id": "35aac8a4",
        "outputId": "d0cfc51d-07ce-49fe-bd00-c3c9804b1bae"
      },
      "outputs": [
        {
          "name": "stdout",
          "output_type": "stream",
          "text": [
            "50\n",
            "52\n",
            "18\n",
            "[50 52 18]\n"
          ]
        }
      ],
      "source": [
        "A=np.array([13,10,8,11,8])\n",
        "B=np.array([13,11,14,14])\n",
        "C=np.array([4,1,3,4,2,4])\n",
        "d=np.sum(A)\n",
        "e=np.sum(B)\n",
        "f=np.sum(C)\n",
        "print(d)\n",
        "print(e)\n",
        "print(f)\n",
        "Ti=np.array([d,e,f])\n",
        "print(Ti)"
      ]
    },
    {
      "cell_type": "code",
      "execution_count": null,
      "id": "1f143ff0",
      "metadata": {
        "id": "1f143ff0",
        "outputId": "7d46b99a-80a3-4d57-b0c5-387b6b305e0f"
      },
      "outputs": [
        {
          "name": "stdout",
          "output_type": "stream",
          "text": [
            "120\n",
            "15\n",
            "1230.0\n"
          ]
        }
      ],
      "source": [
        "G=np.sum(Ti)\n",
        "print(G)\n",
        "n1=len(A)\n",
        "n2=len(B)\n",
        "n3=len(C)\n",
        "N=n1+n2+n3\n",
        "print(N)\n",
        "x=d**2/n1\n",
        "y=e**2/n2\n",
        "z=f**2/n3\n",
        "Ti2_n=np.array([x,y,z])\n",
        "sigma_Ti2_n=np.sum(Ti2_n)\n",
        "print(sigma_Ti2_n)\n"
      ]
    },
    {
      "cell_type": "code",
      "execution_count": null,
      "id": "30fdb18c",
      "metadata": {
        "id": "30fdb18c",
        "outputId": "84547e33-6b4a-4dbf-e71f-ac7a586fd872"
      },
      "outputs": [
        {
          "name": "stdout",
          "output_type": "stream",
          "text": [
            "1262\n"
          ]
        }
      ],
      "source": [
        "RSS=0\n",
        "for i in range(n1):\n",
        "    RSS=RSS+A[i]**2\n",
        "for j in range(n2):\n",
        "    RSS=RSS+B[j]**2\n",
        "for k in range(n3):\n",
        "    RSS=RSS+C[k]**2\n",
        "print(RSS)\n"
      ]
    },
    {
      "cell_type": "code",
      "execution_count": null,
      "id": "1055fb09",
      "metadata": {
        "id": "1055fb09",
        "outputId": "63f848f6-820c-4fc6-ce91-4230a750f99d"
      },
      "outputs": [
        {
          "name": "stdout",
          "output_type": "stream",
          "text": [
            "960.0\n"
          ]
        }
      ],
      "source": [
        "CF=G**2/N\n",
        "print(CF)"
      ]
    },
    {
      "cell_type": "code",
      "execution_count": null,
      "id": "37d54561",
      "metadata": {
        "id": "37d54561",
        "outputId": "9d654f40-c9b2-46e1-d342-adbb4092052b"
      },
      "outputs": [
        {
          "name": "stdout",
          "output_type": "stream",
          "text": [
            "302.0\n"
          ]
        }
      ],
      "source": [
        "SST=RSS-CF\n",
        "print(SST)"
      ]
    },
    {
      "cell_type": "code",
      "execution_count": null,
      "id": "14fffe1e",
      "metadata": {
        "id": "14fffe1e",
        "outputId": "4fc08233-4e72-48ca-b098-74e509287276"
      },
      "outputs": [
        {
          "name": "stdout",
          "output_type": "stream",
          "text": [
            "270.0\n"
          ]
        }
      ],
      "source": [
        "SSTR=sigma_Ti2_n-CF\n",
        "print(SSTR)"
      ]
    },
    {
      "cell_type": "code",
      "execution_count": null,
      "id": "c0babf71",
      "metadata": {
        "id": "c0babf71",
        "outputId": "aebf3d82-568d-473c-cd08-928d10144d71"
      },
      "outputs": [
        {
          "name": "stdout",
          "output_type": "stream",
          "text": [
            "32.0\n"
          ]
        }
      ],
      "source": [
        "SSE=SST-SSTR\n",
        "print(SSE)"
      ]
    },
    {
      "cell_type": "code",
      "execution_count": null,
      "id": "b88d0c8e",
      "metadata": {
        "id": "b88d0c8e",
        "outputId": "26b297c2-6bfa-454e-8680-e89996ae7bdb"
      },
      "outputs": [
        {
          "name": "stdout",
          "output_type": "stream",
          "text": [
            "2\n",
            "12\n",
            "135.0\n",
            "2.6666666666666665\n",
            "50.625\n"
          ]
        }
      ],
      "source": [
        "k=3\n",
        "degree1=k-1\n",
        "degree2=N-k\n",
        "print(degree1)\n",
        "print(degree2)\n",
        "MSST=(SSTR)/degree1\n",
        "print(MSST)\n",
        "MSSE=(SSE)/degree2\n",
        "print(MSSE)\n",
        "F=MSST/MSSE\n",
        "print(F)"
      ]
    },
    {
      "cell_type": "code",
      "execution_count": null,
      "id": "c8995785",
      "metadata": {
        "id": "c8995785",
        "outputId": "6fd9a703-1322-4958-a004-a60d42b225c7"
      },
      "outputs": [
        {
          "name": "stdout",
          "output_type": "stream",
          "text": [
            "  sourceofvariation  sumofsquares  degreeoffreedom  meansumofsqaures  \\\n",
            "0       treatements         270.0                2        135.000000   \n",
            "1             error          32.0               12          2.666667   \n",
            "\n",
            "  variance atio  \n",
            "0        50.625  \n",
            "1                \n"
          ]
        }
      ],
      "source": [
        "dataset={\"source of variation\":['treatements','error'],\"sum of squares\":[SSTR,SSE],\"degree of freedom\":[degree1,degree2],\"mean sumof sqaures\":[MSST,MSSE],\"variance ratio\":[F,'']}\n",
        "df=pd.DataFrame(dataset)\n",
        "print(df)"
      ]
    },
    {
      "cell_type": "code",
      "execution_count": null,
      "id": "4086884f",
      "metadata": {
        "id": "4086884f"
      },
      "outputs": [],
      "source": [
        ""
      ]
    }
  ],
  "metadata": {
    "kernelspec": {
      "display_name": "Python 3 (ipykernel)",
      "language": "python",
      "name": "python3"
    },
    "language_info": {
      "codemirror_mode": {
        "name": "ipython",
        "version": 3
      },
      "file_extension": ".py",
      "mimetype": "text/x-python",
      "name": "python",
      "nbconvert_exporter": "python",
      "pygments_lexer": "ipython3",
      "version": "3.9.7"
    },
    "colab": {
      "name": "Anova_one_way.ipynb",
      "provenance": [],
      "include_colab_link": true
    }
  },
  "nbformat": 4,
  "nbformat_minor": 5
}