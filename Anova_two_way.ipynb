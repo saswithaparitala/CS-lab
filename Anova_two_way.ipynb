{
  "cells": [
    {
      "cell_type": "markdown",
      "metadata": {
        "id": "view-in-github",
        "colab_type": "text"
      },
      "source": [
        "<a href=\"https://colab.research.google.com/github/saswithaparitala/CS-lab/blob/main/Anova_two_way.ipynb\" target=\"_parent\"><img src=\"https://colab.research.google.com/assets/colab-badge.svg\" alt=\"Open In Colab\"/></a>"
      ]
    },
    {
      "cell_type": "code",
      "execution_count": 2,
      "id": "a7519d68",
      "metadata": {
        "id": "a7519d68"
      },
      "outputs": [],
      "source": [
        "import pandas as pd\n",
        "import numpy as np\n",
        "import scipy.stats as st"
      ]
    },
    {
      "cell_type": "code",
      "execution_count": 3,
      "id": "faaffef2",
      "metadata": {
        "id": "faaffef2",
        "outputId": "1c32b65b-3c85-4d6d-ef34-8258fb5aad2b",
        "colab": {
          "base_uri": "https://localhost:8080/"
        }
      },
      "outputs": [
        {
          "output_type": "stream",
          "name": "stdout",
          "text": [
            "32\n",
            "16\n",
            "36\n",
            "[32 16 36]\n",
            "[1024  256 1296]\n"
          ]
        }
      ],
      "source": [
        "A=np.array([13,7,9,3])\n",
        "B=np.array([6,6,3,1])\n",
        "C=np.array([11,5,15,5])\n",
        "d=np.sum(A)\n",
        "e=np.sum(B)\n",
        "f=np.sum(C)\n",
        "print(d)\n",
        "print(e)\n",
        "print(f)\n",
        "Ti=np.array([d,e,f])\n",
        "print(Ti)\n",
        "a=d**2\n",
        "b=e**2\n",
        "c=f**2\n",
        "Ti_2=np.array([a,b,c])\n",
        "print(Ti_2)"
      ]
    },
    {
      "cell_type": "code",
      "execution_count": 4,
      "id": "a8144ef5",
      "metadata": {
        "id": "a8144ef5",
        "outputId": "46d5a8ee-f4a5-4adf-b41d-0c31a452df7a",
        "colab": {
          "base_uri": "https://localhost:8080/"
        }
      },
      "outputs": [
        {
          "output_type": "stream",
          "name": "stdout",
          "text": [
            "30\n",
            "18\n",
            "27\n",
            "9\n",
            "[30 18 27  9]\n",
            "[900 324 729  81]\n",
            "2034\n",
            "84\n",
            "2576\n"
          ]
        }
      ],
      "source": [
        "r=np.array([13,6,11])\n",
        "x=np.array([7,6,5])\n",
        "y=np.array([9,3,15])\n",
        "z=np.array([3,1,5])\n",
        "B1=np.sum(r)\n",
        "print(B1)\n",
        "B2=np.sum(x)\n",
        "B3=np.sum(y)\n",
        "B4=np.sum(z)\n",
        "print(B2)\n",
        "print(B3)\n",
        "print(B4)\n",
        "Bj=np.array([B1,B2,B3,B4])\n",
        "print(Bj)\n",
        "Bj_2=np.array([B1**2,B2**2,B3**2,B4**2])\n",
        "print(Bj_2)\n",
        "sigma_Bj_2=np.sum(Bj_2)\n",
        "print(sigma_Bj_2)\n",
        "G=np.sum(Ti)\n",
        "print(G)\n",
        "sigma_Ti_2=np.sum(Ti_2)\n",
        "print(sigma_Ti_2)"
      ]
    },
    {
      "cell_type": "code",
      "execution_count": 5,
      "id": "ab291db4",
      "metadata": {
        "id": "ab291db4",
        "outputId": "7edcf7dd-4167-409b-b9ea-89ffa347ce0d",
        "colab": {
          "base_uri": "https://localhost:8080/"
        }
      },
      "outputs": [
        {
          "output_type": "stream",
          "name": "stdout",
          "text": [
            "786\n",
            "588.0\n",
            "198.0\n",
            "56.0\n",
            "90.0\n",
            "52.0\n"
          ]
        }
      ],
      "source": [
        "s=0\n",
        "for i in range(len(A)):\n",
        "  s=s+A[i]**2\n",
        "for j in range(len(B)):\n",
        "  s=s+B[j]**2\n",
        "for g in range(len(C)):\n",
        "  s=s+C[g]**2\n",
        "print(s) #row sum of squares\n",
        "CF=G**2/(len(A)+len(B)+len(C))\n",
        "print(CF)\n",
        "SST=s-CF\n",
        "print(SST)\n",
        "SSTR=(sigma_Ti_2/len(A))-CF\n",
        "print(SSTR)\n",
        "k=3\n",
        "h=4\n",
        "SSB=(sigma_Bj_2/k)-CF\n",
        "print(SSB)\n",
        "SSE=SST-SSTR-SSB\n",
        "print(SSE)"
      ]
    },
    {
      "cell_type": "code",
      "execution_count": 6,
      "id": "97079aea",
      "metadata": {
        "id": "97079aea",
        "outputId": "15749ebe-0fde-4466-c183-5395a224b618",
        "colab": {
          "base_uri": "https://localhost:8080/"
        }
      },
      "outputs": [
        {
          "output_type": "stream",
          "name": "stdout",
          "text": [
            "28.0\n",
            "30.0\n",
            "8.666666666666666\n"
          ]
        }
      ],
      "source": [
        "sstr=SSTR/(k-1)\n",
        "ssb=SSB/(h-1)\n",
        "sse=SSE/((k-1)*(h-1))\n",
        "print(sstr)\n",
        "print(ssb)\n",
        "print(sse)"
      ]
    },
    {
      "cell_type": "code",
      "execution_count": 7,
      "id": "75124c8f",
      "metadata": {
        "id": "75124c8f",
        "outputId": "84becb64-0560-47cc-ec46-2b9b00d11fdc",
        "colab": {
          "base_uri": "https://localhost:8080/"
        }
      },
      "outputs": [
        {
          "output_type": "stream",
          "name": "stdout",
          "text": [
            "  sourse of variance  sum of squares  degress of freedom  mean sum of squares  \\\n",
            "0        treatements            56.0                   2            28.000000   \n",
            "1             blocks            90.0                   3            30.000000   \n",
            "2             errors            52.0                   6             8.666667   \n",
            "\n",
            "  variance ratio  \n",
            "0       3.230769  \n",
            "1       3.461538  \n",
            "2                 \n"
          ]
        }
      ],
      "source": [
        "dataset={\"sourse of variance\":['treatements','blocks','errors'],\"sum of squares\":[SSTR,SSB,SSE],\"degress of freedom\":[k-1,h-1,(k-1)*(h-1)],\"mean sum of squares\":[sstr,ssb,sse],\"variance ratio\":[sstr/sse,ssb/sse,'']}\n",
        "df=pd.DataFrame(dataset)\n",
        "print(df)"
      ]
    },
    {
      "cell_type": "code",
      "execution_count": 8,
      "id": "0a5fa864",
      "metadata": {
        "id": "0a5fa864",
        "colab": {
          "base_uri": "https://localhost:8080/"
        },
        "outputId": "2f967504-6123-4abc-e8c9-8ca15be56864"
      },
      "outputs": [
        {
          "output_type": "stream",
          "name": "stdout",
          "text": [
            "table value realated to treatements : 5.143252849784718\n",
            "accept null hypothesis\n",
            "table value realated to blocks : 4.757062663089414\n",
            "accept null hypothesis\n"
          ]
        }
      ],
      "source": [
        "table_tr=st.f.ppf(0.95,k-1,(k-1)*(h-1))\n",
        "print(\"table value realated to treatements :\",table_tr)\n",
        "if (sstr/sse)>table_tr:\n",
        "    print(\"reject null hypothesis\")\n",
        "else:\n",
        "    print(\"accept null hypothesis\")\n",
        "table_b=st.f.ppf(0.95,h-1,(k-1)*(h-1))\n",
        "print(\"table value realated to blocks :\",table_b)\n",
        "if (ssb/sse)>table_b:\n",
        "    print(\"reject null hypothesis\")\n",
        "else:\n",
        "    print(\"accept null hypothesis\")"
      ]
    }
  ],
  "metadata": {
    "kernelspec": {
      "display_name": "Python 3 (ipykernel)",
      "language": "python",
      "name": "python3"
    },
    "language_info": {
      "codemirror_mode": {
        "name": "ipython",
        "version": 3
      },
      "file_extension": ".py",
      "mimetype": "text/x-python",
      "name": "python",
      "nbconvert_exporter": "python",
      "pygments_lexer": "ipython3",
      "version": "3.9.7"
    },
    "colab": {
      "name": "Anova_two_way.ipynb",
      "provenance": [],
      "include_colab_link": true
    }
  },
  "nbformat": 4,
  "nbformat_minor": 5
}